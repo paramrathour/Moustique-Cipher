{
 "cells": [
  {
   "cell_type": "code",
   "execution_count": 1,
   "metadata": {},
   "outputs": [],
   "source": [
    "%display latex"
   ]
  },
  {
   "cell_type": "code",
   "execution_count": 2,
   "metadata": {},
   "outputs": [],
   "source": [
    "from sage.matrix.berlekamp_massey import berlekamp_massey\n",
    "import numpy as np\n",
    "import bisect\n",
    "import matplotlib.pyplot as plt\n",
    "from matplotlib.pyplot import figure"
   ]
  },
  {
   "cell_type": "code",
   "execution_count": 3,
   "metadata": {},
   "outputs": [],
   "source": [
    "def init(key, F, register_lengths, row_count, r_1_num):\n",
    "    CCSR = list(random_matrix(F, 1, register_lengths[0]+1).row(0))    # 1-indexed\n",
    "    r_1 = random_matrix(F, r_1_num, register_lengths[1]+3)\n",
    "    r_2 = list(random_matrix(F, 1, register_lengths[2]).row(0))\n",
    "    r_3 = list(random_matrix(F, 1, register_lengths[3]).row(0))\n",
    "    \n",
    "    sum = np.zeros(len(row_count), dtype = int)\n",
    "    sum[0] = row_count[0]\n",
    "    for i in range(1, len(row_count)):\n",
    "        sum[i] = row_count[i] + sum[i-1]\n",
    "    \n",
    "    mapping = {}\n",
    "    mapping[0,0] = 0\n",
    "    column_count = np.zeros(len(key)+1, dtype = int)\n",
    "    column_count[0] = 1\n",
    "    for i in range(1,register_lengths[0]+1):\n",
    "        idx = bisect.bisect_left(sum, i)\n",
    "        j = 48 + i - sum[idx]\n",
    "        mapping[idx, j] = i\n",
    "        column_count[j] += 1\n",
    "    for i in range(2 + column_count[len(key)]):\n",
    "        j = len(key) - i\n",
    "        if (1, j) not in mapping:\n",
    "            mapping[1, j] = 0\n",
    "    \n",
    "    return CCSR, r_1, r_2, r_3, mapping, column_count"
   ]
  },
  {
   "cell_type": "code",
   "execution_count": 4,
   "metadata": {},
   "outputs": [],
   "source": [
    "def g(i, a, b, c, d):\n",
    "    if i == 0:\n",
    "        return a + b + c + d\n",
    "    elif i == 1:\n",
    "        return 1 + a + b + c * (d + 1)\n",
    "    elif i == 2:\n",
    "        return a * (1 + b) + c * (1 + d)\n",
    "    else:\n",
    "        return 0"
   ]
  },
  {
   "cell_type": "code",
   "execution_count": 5,
   "metadata": {},
   "outputs": [],
   "source": [
    "def parameters(i,j):\n",
    "    value = (j-i) % 6\n",
    "    if value == 1 or value == 4:\n",
    "        return 0, 2*(j-i-1)/3, j-2\n",
    "    elif value == 2 or value == 5:\n",
    "        return 1, j-4, j-2\n",
    "    elif value == 3:\n",
    "        return 1, 0, j-2\n",
    "    else:\n",
    "        return 1, j-5, 0"
   ]
  },
  {
   "cell_type": "code",
   "execution_count": 6,
   "metadata": {},
   "outputs": [],
   "source": [
    "def state_update(F, key, CCSR, r_1, r_2, r_3, mapping, column_count, register_lengths, r_1_num, row_count):\n",
    "    CCSR_new = list(random_matrix(F, 1, register_lengths[0]+1).row(0))    # 1-indexed\n",
    "    for j in range(1, len(key)+1):\n",
    "        for i in range(column_count[j]):\n",
    "            x, v, w = parameters(i, j)\n",
    "            if j < 3:\n",
    "                v = 0\n",
    "                w = 0\n",
    "                c = 0\n",
    "                d = 0\n",
    "            a = CCSR[mapping[i%column_count[j-1], j-1]]\n",
    "            b = key[j-1]\n",
    "            c = CCSR[mapping[i%column_count[v], v]]\n",
    "            d = CCSR[mapping[i%column_count[w], w]]\n",
    "            if j == len(key):\n",
    "                x = 2\n",
    "                b = CCSR[mapping[0, j-1-i]]\n",
    "                c = CCSR[mapping[i%column_count[j-2], j-2]]\n",
    "                d = CCSR[mapping[1, j-2-i]]\n",
    "            CCSR_new[mapping[i, j]] = g(x, a, b, c, d)\n",
    "    CCSR = CCSR_new;\n",
    "    for i in range(register_lengths[1]):\n",
    "        a = CCSR[register_lengths[0] - i]\n",
    "        b = CCSR[i + int(register_lengths[0] * 18/128)]\n",
    "        c = CCSR[int(register_lengths[0] * 113/128) - i]\n",
    "        d = CCSR[i + 1]\n",
    "        r_1[0, (4*i) % register_lengths[1]] = g(1, a, b, c, d)\n",
    "    for j in range(1, r_1_num):\n",
    "        for i in range(register_lengths[1]):\n",
    "            a = r_1[j-1, i]\n",
    "            b = r_1[j-1, i+3]\n",
    "            c = r_1[j-1, i+1]\n",
    "            d = r_1[j-1, i+2]\n",
    "            r_1[j, (4*i) % register_lengths[1]] = g(1, a, b, c, d)\n",
    "    for i in range(register_lengths[2]):\n",
    "        a = r_1[r_1_num-1, 4*i]\n",
    "        b = r_1[r_1_num-1, 4*i+3]\n",
    "        c = r_1[r_1_num-1, 4*i+1]\n",
    "        d = r_1[r_1_num-1, 4*i+2]\n",
    "        r_2[i] = g(1, a, b, c, d)\n",
    "    for i in range(register_lengths[3]):\n",
    "        a = r_2[4*i]\n",
    "        b = r_2[4*i+1]\n",
    "        c = r_2[4*i+2]\n",
    "        d = r_2[4*i+3]\n",
    "        r_3[i] = g(0, a, b, c, d)\n",
    "    return CCSR, r_1, r_2, r_3"
   ]
  },
  {
   "cell_type": "code",
   "execution_count": 7,
   "metadata": {},
   "outputs": [],
   "source": [
    "def output_stream(key, CCSR, r_1, r_2, r_3):\n",
    "    return sum(r_3)"
   ]
  },
  {
   "cell_type": "code",
   "execution_count": 8,
   "metadata": {},
   "outputs": [],
   "source": [
    "def generate_stream(F, key, IV, CCSR, r_1, r_2, r_3, mapping, column_count, register_lengths, r_1_num, row_count, size):\n",
    "    key_combined = [key[i] + IV[i] for i in range(len(key))]\n",
    "    output = []\n",
    "    for i in range(min(size, len(key_combined))):\n",
    "        output.append(key_combined[i])\n",
    "    for i in range(len(key_combined), size):\n",
    "        CCSR, r_1, r_2, r_3 = state_update(F, key_combined, CCSR, r_1, r_2, r_3, mapping, column_count, register_lengths, r_1_num, row_count)\n",
    "        output.append(output_stream(key, CCSR, r_1, r_2, r_3))    \n",
    "    return output"
   ]
  },
  {
   "cell_type": "code",
   "execution_count": 9,
   "metadata": {},
   "outputs": [],
   "source": [
    "def generate_data(IV_num, size):\n",
    "    F = GF(2)\n",
    "    register_lengths = [64, 53, 12, 3]\n",
    "    r_1_num = 2\n",
    "    row_count = [48, 6 , 3, 3, 1, 1, 1, 1]\n",
    "    output = []\n",
    "    IVs = []\n",
    "    key_length = 48\n",
    "    key = random_matrix(F, 1, key_length)\n",
    "    key = list(key.row(0))\n",
    "    for i in range(IV_num):\n",
    "        CCSR, r_1, r_2, r_3, mapping, column_count = init(key, F, register_lengths, row_count, r_1_num)\n",
    "        IV = list(random_matrix(F, 1, key_length).row(0))\n",
    "        IVs.append(IV)\n",
    "        output.append(generate_stream(F, key, IV, CCSR, r_1, r_2, r_3, mapping, column_count, register_lengths, r_1_num, row_count, size))\n",
    "    return key, IVs, output"
   ]
  },
  {
   "cell_type": "code",
   "execution_count": 10,
   "metadata": {},
   "outputs": [],
   "source": [
    "set_random_seed(0)\n",
    "key, IVs, output = generate_data(100, 1024)"
   ]
  },
  {
   "cell_type": "code",
   "execution_count": 11,
   "metadata": {},
   "outputs": [],
   "source": [
    "linear_complexities = []\n",
    "for o in output:\n",
    "    linear_complexities.append(berlekamp_massey(o+o).degree())"
   ]
  },
  {
   "cell_type": "code",
   "execution_count": 12,
   "metadata": {},
   "outputs": [
    {
     "data": {
      "text/html": [
       "<html><script type=\"math/tex; mode=display\">\\newcommand{\\Bold}[1]{\\mathbf{#1}}\\verb|Figure(1080x720)|</script></html>"
      ],
      "text/latex": [
       "\\begin{math}\n",
       "\\newcommand{\\Bold}[1]{\\mathbf{#1}}\\verb|Figure(1080x720)|\n",
       "\\end{math}"
      ],
      "text/plain": [
       "<Figure size 1080x720 with 1 Axes>"
      ]
     },
     "metadata": {
      "needs_background": "light"
     },
     "output_type": "display_data"
    }
   ],
   "source": [
    "fig, ax = plt.subplots()\n",
    "ax.plot(np.arange(1, len(linear_complexities)+1), linear_complexities, '-om')\n",
    "ax.set_xlabel('Run Number', fontsize = 20)\n",
    "ax.set_ylabel('Linear Complexity', fontsize = 20)\n",
    "fig.set_size_inches(15, 10, forward=True)\n",
    "ax.set_ylim([1018, 1025])\n",
    "ax.set_title('Variation of Linear Complexity with Runs', fontsize = 25)\n",
    "plt.savefig('1.pdf')"
   ]
  },
  {
   "cell_type": "code",
   "execution_count": 13,
   "metadata": {},
   "outputs": [
    {
     "data": {
      "text/html": [
       "<html><script type=\"math/tex; mode=display\">\\newcommand{\\Bold}[1]{\\mathbf{#1}}\\verb|Figure(1080x720)|</script></html>"
      ],
      "text/latex": [
       "\\begin{math}\n",
       "\\newcommand{\\Bold}[1]{\\mathbf{#1}}\\verb|Figure(1080x720)|\n",
       "\\end{math}"
      ],
      "text/plain": [
       "<Figure size 1080x720 with 1 Axes>"
      ]
     },
     "metadata": {
      "needs_background": "light"
     },
     "output_type": "display_data"
    }
   ],
   "source": [
    "bins_num = len(np.unique(linear_complexities))\n",
    "fig, ax = plt.subplots()\n",
    "ax.hist(linear_complexities, bins = bins_num, rwidth = 0.8, color = 'violet')\n",
    "ax.set_xlabel('Linear Complexity', fontsize = 20)\n",
    "ax.set_ylabel('Count', fontsize = 20)\n",
    "fig.set_size_inches(15, 10, forward=True)\n",
    "ax.set_xlim([1018, 1025])\n",
    "ax.set_title('Histogram of Linear Complexity Values', fontsize = 25)\n",
    "plt.savefig('2.pdf')"
   ]
  },
  {
   "cell_type": "code",
   "execution_count": 14,
   "metadata": {},
   "outputs": [],
   "source": [
    "r = ZZ.random_element(0,99)\n",
    "linear_complexities_one = []\n",
    "for i in range(2, len(output[r])):\n",
    "    linear_complexities_one.append(berlekamp_massey(o[1:i]+o[1:i]).degree())"
   ]
  },
  {
   "cell_type": "code",
   "execution_count": 15,
   "metadata": {},
   "outputs": [
    {
     "data": {
      "text/html": [
       "<html><script type=\"math/tex; mode=display\">\\newcommand{\\Bold}[1]{\\mathbf{#1}}\\verb|Figure(1080x720)|</script></html>"
      ],
      "text/latex": [
       "\\begin{math}\n",
       "\\newcommand{\\Bold}[1]{\\mathbf{#1}}\\verb|Figure(1080x720)|\n",
       "\\end{math}"
      ],
      "text/plain": [
       "<Figure size 1080x720 with 1 Axes>"
      ]
     },
     "metadata": {
      "needs_background": "light"
     },
     "output_type": "display_data"
    }
   ],
   "source": [
    "fig, ax = plt.subplots()\n",
    "ax.plot(linear_complexities_one, '-m')\n",
    "ax.set_xlabel('Stream Length', fontsize = 20)\n",
    "ax.set_ylabel('Linear Complexity', fontsize = 20)\n",
    "fig.set_size_inches(15, 10, forward=True)\n",
    "ax.set_title('Linear Complexity as Stream Length Increases for a Random Run {}'.format(r), fontsize = 25)\n",
    "plt.savefig('3.pdf')"
   ]
  }
 ],
 "metadata": {
  "kernelspec": {
   "display_name": "SageMath 9.2",
   "language": "sage",
   "name": "sagemath"
  },
  "language_info": {
   "codemirror_mode": {
    "name": "ipython",
    "version": 3
   },
   "file_extension": ".py",
   "mimetype": "text/x-python",
   "name": "python",
   "nbconvert_exporter": "python",
   "pygments_lexer": "ipython3",
   "version": "3.7.7"
  }
 },
 "nbformat": 4,
 "nbformat_minor": 4
}
